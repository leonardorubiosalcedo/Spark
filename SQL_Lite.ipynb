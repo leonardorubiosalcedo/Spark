{
 "cells": [
  {
   "cell_type": "code",
   "execution_count": 2,
   "metadata": {},
   "outputs": [],
   "source": [
    "import sqlite3\n",
    "conexion = sqlite3.connect(\"basedatos1.db\")\n",
    "cursor = conexion.cursor()"
   ]
  },
  {
   "cell_type": "code",
   "execution_count": 3,
   "metadata": {},
   "outputs": [],
   "source": [
    "cursor.execute(\"CREATE TABLE PERSONAS(edad INTEGER, nombre TEXT, apellido TEXT)\")\n",
    "conexion.commit()"
   ]
  },
  {
   "cell_type": "code",
   "execution_count": 9,
   "metadata": {},
   "outputs": [],
   "source": [
    "cursor.execute(\"INSERT INTO PERSONAS VALUES(16, 'Leonardo1', 'Rubio1')\")\n",
    "cursor.execute(\"INSERT INTO PERSONAS VALUES(21, 'Leonardo2', 'Rubio3')\")\n",
    "conexion.commit()"
   ]
  },
  {
   "cell_type": "code",
   "execution_count": 10,
   "metadata": {},
   "outputs": [],
   "source": [
    "cursor.execute(\"SELECT * FROM PERSONAS\")\n",
    "regi_select= cursor.fetchall() \n",
    "conexion.commit()"
   ]
  },
  {
   "cell_type": "code",
   "execution_count": 11,
   "metadata": {},
   "outputs": [
    {
     "name": "stdout",
     "output_type": "stream",
     "text": [
      "[(18, 'Leonardo', 'Rubio'), (16, 'Leonardo1', 'Rubio1'), (21, 'Leonardo2', 'Rubio3')]\n"
     ]
    }
   ],
   "source": [
    "print(regi_select)"
   ]
  },
  {
   "cell_type": "code",
   "execution_count": null,
   "metadata": {},
   "outputs": [],
   "source": [
    "conexion.close()"
   ]
  },
  {
   "cell_type": "markdown",
   "metadata": {},
   "source": [
    "Ensayo de los datos "
   ]
  },
  {
   "cell_type": "code",
   "execution_count": 20,
   "metadata": {},
   "outputs": [],
   "source": [
    "import pandas as pd\n",
    "from sqlite3 import Error"
   ]
  },
  {
   "cell_type": "code",
   "execution_count": 15,
   "metadata": {},
   "outputs": [],
   "source": [
    "datos=pd.read_csv(\"D:/Universidad/Cursos/coches.csv\",sep=';')"
   ]
  },
  {
   "cell_type": "code",
   "execution_count": 27,
   "metadata": {},
   "outputs": [],
   "source": [
    "basededatos= 'coches.bd'\n",
    "def crear_conexion_db():\n",
    "    try:\n",
    "        conexion = sqlite3.connect(basededatos)\n",
    "        return conexion\n",
    "    except Error:\n",
    "        print(Error)\n",
    "def crear_tabla_coches(conexion):\n",
    "    cursor = conexion.cursor()\n",
    "    cursor.execute(\"CREATE TABLE coches(marca text, modelo text, combustible text, transmision text, estado text,matriculacion text, kilometraje integer, potencia real, precio real)\")\n",
    "    \n",
    "def insertar_tabla_coches(conexion,coche):\n",
    "    cursor = conexion.cursor()\n",
    "    cursor.execute('INSERT INTO coches(marca, modelo, combustible, transmision, estado, matriculacion, kilometraje, potencia, precio) VALUES (?,?,?,?,?,?,?,?,?)',coche)\n",
    "    conexion.commit()\n",
    "    \n",
    "def grabar_coche(conexion,datos):\n",
    "    for fila in datos.itertuples():\n",
    "        marca = fila[1]\n",
    "        modelo = fila[2]\n",
    "        combustible = fila[3]\n",
    "        transmision = fila[4]\n",
    "        estado = fila[5]\n",
    "        matriculacion= fila[1]\n",
    "        kilometraje= fila[1]\n",
    "        potencia= fila[1]\n",
    "        precio= fila[1]\n",
    "        coche = (marca, modelo, combustible, transmision, estado, matriculacion, kilometraje, potencia, precio)\n",
    "        insertar_tabla_coches(conexion,coche)\n"
   ]
  },
  {
   "cell_type": "code",
   "execution_count": 23,
   "metadata": {},
   "outputs": [],
   "source": [
    "conexion = crear_conexion_db()"
   ]
  },
  {
   "cell_type": "code",
   "execution_count": 26,
   "metadata": {},
   "outputs": [],
   "source": [
    "crear_tabla_coches(conexion)"
   ]
  },
  {
   "cell_type": "code",
   "execution_count": 28,
   "metadata": {},
   "outputs": [],
   "source": [
    "grabar_coche(conexion,datos)"
   ]
  },
  {
   "cell_type": "code",
   "execution_count": 35,
   "metadata": {},
   "outputs": [],
   "source": [
    "cursor = conexion.cursor()\n",
    "cursor.execute(\"SELECT * FROM coches\")\n",
    "regi_select= cursor.fetchall() \n",
    "conexion.commit()\n",
    "datos_pandas= pd.DataFrame(regi_select,columns=['marca', 'modelo', 'combustible', 'transmision', 'estado', \n",
    "                                                'matriculacion', 'kilometraje', 'potencia', 'precio'])"
   ]
  },
  {
   "cell_type": "code",
   "execution_count": 36,
   "metadata": {},
   "outputs": [
    {
     "data": {
      "text/html": [
       "<div>\n",
       "<style scoped>\n",
       "    .dataframe tbody tr th:only-of-type {\n",
       "        vertical-align: middle;\n",
       "    }\n",
       "\n",
       "    .dataframe tbody tr th {\n",
       "        vertical-align: top;\n",
       "    }\n",
       "\n",
       "    .dataframe thead th {\n",
       "        text-align: right;\n",
       "    }\n",
       "</style>\n",
       "<table border=\"1\" class=\"dataframe\">\n",
       "  <thead>\n",
       "    <tr style=\"text-align: right;\">\n",
       "      <th></th>\n",
       "      <th>marca</th>\n",
       "      <th>modelo</th>\n",
       "      <th>combustible</th>\n",
       "      <th>transmision</th>\n",
       "      <th>estado</th>\n",
       "      <th>matriculacion</th>\n",
       "      <th>kilometraje</th>\n",
       "      <th>potencia</th>\n",
       "      <th>precio</th>\n",
       "    </tr>\n",
       "  </thead>\n",
       "  <tbody>\n",
       "    <tr>\n",
       "      <th>0</th>\n",
       "      <td>Ford</td>\n",
       "      <td>Fiesta</td>\n",
       "      <td>Gasolina</td>\n",
       "      <td>Manual</td>\n",
       "      <td>Usado</td>\n",
       "      <td>Ford</td>\n",
       "      <td>Ford</td>\n",
       "      <td>Ford</td>\n",
       "      <td>Ford</td>\n",
       "    </tr>\n",
       "    <tr>\n",
       "      <th>1</th>\n",
       "      <td>Nissan</td>\n",
       "      <td>Pixo</td>\n",
       "      <td>Gasolina</td>\n",
       "      <td>Manual</td>\n",
       "      <td>Usado</td>\n",
       "      <td>Nissan</td>\n",
       "      <td>Nissan</td>\n",
       "      <td>Nissan</td>\n",
       "      <td>Nissan</td>\n",
       "    </tr>\n",
       "    <tr>\n",
       "      <th>2</th>\n",
       "      <td>Hyundai</td>\n",
       "      <td>i10</td>\n",
       "      <td>Gasolina</td>\n",
       "      <td>Manual</td>\n",
       "      <td>Usado</td>\n",
       "      <td>Hyundai</td>\n",
       "      <td>Hyundai</td>\n",
       "      <td>Hyundai</td>\n",
       "      <td>Hyundai</td>\n",
       "    </tr>\n",
       "    <tr>\n",
       "      <th>3</th>\n",
       "      <td>Renault</td>\n",
       "      <td>Twingo</td>\n",
       "      <td>Gasolina</td>\n",
       "      <td>Manual</td>\n",
       "      <td>Usado</td>\n",
       "      <td>Renault</td>\n",
       "      <td>Renault</td>\n",
       "      <td>Renault</td>\n",
       "      <td>Renault</td>\n",
       "    </tr>\n",
       "    <tr>\n",
       "      <th>4</th>\n",
       "      <td>Peugeot</td>\n",
       "      <td>107</td>\n",
       "      <td>Gasolina</td>\n",
       "      <td>Manual</td>\n",
       "      <td>Usado</td>\n",
       "      <td>Peugeot</td>\n",
       "      <td>Peugeot</td>\n",
       "      <td>Peugeot</td>\n",
       "      <td>Peugeot</td>\n",
       "    </tr>\n",
       "    <tr>\n",
       "      <th>...</th>\n",
       "      <td>...</td>\n",
       "      <td>...</td>\n",
       "      <td>...</td>\n",
       "      <td>...</td>\n",
       "      <td>...</td>\n",
       "      <td>...</td>\n",
       "      <td>...</td>\n",
       "      <td>...</td>\n",
       "      <td>...</td>\n",
       "    </tr>\n",
       "    <tr>\n",
       "      <th>2775</th>\n",
       "      <td>Volkswagen</td>\n",
       "      <td>Golf Sportsvan</td>\n",
       "      <td>Gasolina</td>\n",
       "      <td>Automática</td>\n",
       "      <td>Usado</td>\n",
       "      <td>Volkswagen</td>\n",
       "      <td>Volkswagen</td>\n",
       "      <td>Volkswagen</td>\n",
       "      <td>Volkswagen</td>\n",
       "    </tr>\n",
       "    <tr>\n",
       "      <th>2776</th>\n",
       "      <td>Mercedes-Benz</td>\n",
       "      <td>B 220</td>\n",
       "      <td>Gasolina</td>\n",
       "      <td>Automática</td>\n",
       "      <td>Usado</td>\n",
       "      <td>Mercedes-Benz</td>\n",
       "      <td>Mercedes-Benz</td>\n",
       "      <td>Mercedes-Benz</td>\n",
       "      <td>Mercedes-Benz</td>\n",
       "    </tr>\n",
       "    <tr>\n",
       "      <th>2777</th>\n",
       "      <td>Opel</td>\n",
       "      <td>Zafira</td>\n",
       "      <td>Gasolina</td>\n",
       "      <td>Manual</td>\n",
       "      <td>Usado</td>\n",
       "      <td>Opel</td>\n",
       "      <td>Opel</td>\n",
       "      <td>Opel</td>\n",
       "      <td>Opel</td>\n",
       "    </tr>\n",
       "    <tr>\n",
       "      <th>2778</th>\n",
       "      <td>Opel</td>\n",
       "      <td>Zafira</td>\n",
       "      <td>Gasolina</td>\n",
       "      <td>Automática</td>\n",
       "      <td>Usado</td>\n",
       "      <td>Opel</td>\n",
       "      <td>Opel</td>\n",
       "      <td>Opel</td>\n",
       "      <td>Opel</td>\n",
       "    </tr>\n",
       "    <tr>\n",
       "      <th>2779</th>\n",
       "      <td>Volkswagen</td>\n",
       "      <td>Caddy</td>\n",
       "      <td>Diesel</td>\n",
       "      <td>Manual</td>\n",
       "      <td>Usado</td>\n",
       "      <td>Volkswagen</td>\n",
       "      <td>Volkswagen</td>\n",
       "      <td>Volkswagen</td>\n",
       "      <td>Volkswagen</td>\n",
       "    </tr>\n",
       "  </tbody>\n",
       "</table>\n",
       "<p>2780 rows × 9 columns</p>\n",
       "</div>"
      ],
      "text/plain": [
       "              marca          modelo combustible transmision estado  \\\n",
       "0              Ford          Fiesta    Gasolina      Manual  Usado   \n",
       "1            Nissan            Pixo    Gasolina      Manual  Usado   \n",
       "2           Hyundai             i10    Gasolina      Manual  Usado   \n",
       "3           Renault          Twingo    Gasolina      Manual  Usado   \n",
       "4           Peugeot             107    Gasolina      Manual  Usado   \n",
       "...             ...             ...         ...         ...    ...   \n",
       "2775     Volkswagen  Golf Sportsvan    Gasolina  Automática  Usado   \n",
       "2776  Mercedes-Benz           B 220    Gasolina  Automática  Usado   \n",
       "2777           Opel          Zafira    Gasolina      Manual  Usado   \n",
       "2778           Opel          Zafira    Gasolina  Automática  Usado   \n",
       "2779     Volkswagen           Caddy      Diesel      Manual  Usado   \n",
       "\n",
       "      matriculacion    kilometraje       potencia         precio  \n",
       "0              Ford           Ford           Ford           Ford  \n",
       "1            Nissan         Nissan         Nissan         Nissan  \n",
       "2           Hyundai        Hyundai        Hyundai        Hyundai  \n",
       "3           Renault        Renault        Renault        Renault  \n",
       "4           Peugeot        Peugeot        Peugeot        Peugeot  \n",
       "...             ...            ...            ...            ...  \n",
       "2775     Volkswagen     Volkswagen     Volkswagen     Volkswagen  \n",
       "2776  Mercedes-Benz  Mercedes-Benz  Mercedes-Benz  Mercedes-Benz  \n",
       "2777           Opel           Opel           Opel           Opel  \n",
       "2778           Opel           Opel           Opel           Opel  \n",
       "2779     Volkswagen     Volkswagen     Volkswagen     Volkswagen  \n",
       "\n",
       "[2780 rows x 9 columns]"
      ]
     },
     "execution_count": 36,
     "metadata": {},
     "output_type": "execute_result"
    }
   ],
   "source": [
    "datos_pandas"
   ]
  }
 ],
 "metadata": {
  "kernelspec": {
   "display_name": "Python 3",
   "language": "python",
   "name": "python3"
  },
  "language_info": {
   "codemirror_mode": {
    "name": "ipython",
    "version": 3
   },
   "file_extension": ".py",
   "mimetype": "text/x-python",
   "name": "python",
   "nbconvert_exporter": "python",
   "pygments_lexer": "ipython3",
   "version": "3.8.3"
  }
 },
 "nbformat": 4,
 "nbformat_minor": 4
}
